{
 "cells": [
  {
   "cell_type": "code",
   "execution_count": 22,
   "metadata": {},
   "outputs": [
    {
     "name": "stdout",
     "output_type": "stream",
     "text": [
      "Requirement already satisfied: pandas in ./diffpriv/lib/python3.10/site-packages (2.2.0)\n",
      "Requirement already satisfied: pytz>=2020.1 in ./diffpriv/lib/python3.10/site-packages (from pandas) (2024.1)\n",
      "Requirement already satisfied: tzdata>=2022.7 in ./diffpriv/lib/python3.10/site-packages (from pandas) (2024.1)\n",
      "Requirement already satisfied: python-dateutil>=2.8.2 in ./diffpriv/lib/python3.10/site-packages (from pandas) (2.8.2)\n",
      "Requirement already satisfied: numpy<2,>=1.22.4 in ./diffpriv/lib/python3.10/site-packages (from pandas) (1.26.3)\n",
      "Requirement already satisfied: six>=1.5 in ./diffpriv/lib/python3.10/site-packages (from python-dateutil>=2.8.2->pandas) (1.16.0)\n",
      "Requirement already satisfied: matplotlib in ./diffpriv/lib/python3.10/site-packages (3.8.3)\n",
      "Requirement already satisfied: fonttools>=4.22.0 in ./diffpriv/lib/python3.10/site-packages (from matplotlib) (4.49.0)\n",
      "Requirement already satisfied: pyparsing>=2.3.1 in ./diffpriv/lib/python3.10/site-packages (from matplotlib) (3.1.1)\n",
      "Requirement already satisfied: numpy<2,>=1.21 in ./diffpriv/lib/python3.10/site-packages (from matplotlib) (1.26.3)\n",
      "Requirement already satisfied: python-dateutil>=2.7 in ./diffpriv/lib/python3.10/site-packages (from matplotlib) (2.8.2)\n",
      "Requirement already satisfied: kiwisolver>=1.3.1 in ./diffpriv/lib/python3.10/site-packages (from matplotlib) (1.4.5)\n",
      "Requirement already satisfied: packaging>=20.0 in ./diffpriv/lib/python3.10/site-packages (from matplotlib) (23.2)\n",
      "Requirement already satisfied: cycler>=0.10 in ./diffpriv/lib/python3.10/site-packages (from matplotlib) (0.12.1)\n",
      "Requirement already satisfied: pillow>=8 in ./diffpriv/lib/python3.10/site-packages (from matplotlib) (10.2.0)\n",
      "Requirement already satisfied: contourpy>=1.0.1 in ./diffpriv/lib/python3.10/site-packages (from matplotlib) (1.2.0)\n",
      "Requirement already satisfied: six>=1.5 in ./diffpriv/lib/python3.10/site-packages (from python-dateutil>=2.7->matplotlib) (1.16.0)\n",
      "Collecting seaborn\n",
      "  Downloading seaborn-0.13.2-py3-none-any.whl (294 kB)\n",
      "\u001b[2K     \u001b[90m━━━━━━━━━━━━━━━━━━━━━━━━━━━━━━━━━━━━━━━\u001b[0m \u001b[32m294.9/294.9 KB\u001b[0m \u001b[31m3.8 MB/s\u001b[0m eta \u001b[36m0:00:00\u001b[0ma \u001b[36m0:00:01\u001b[0m\n",
      "\u001b[?25hRequirement already satisfied: numpy!=1.24.0,>=1.20 in ./diffpriv/lib/python3.10/site-packages (from seaborn) (1.26.3)\n",
      "Requirement already satisfied: matplotlib!=3.6.1,>=3.4 in ./diffpriv/lib/python3.10/site-packages (from seaborn) (3.8.3)\n",
      "Requirement already satisfied: pandas>=1.2 in ./diffpriv/lib/python3.10/site-packages (from seaborn) (2.2.0)\n",
      "Requirement already satisfied: fonttools>=4.22.0 in ./diffpriv/lib/python3.10/site-packages (from matplotlib!=3.6.1,>=3.4->seaborn) (4.49.0)\n",
      "Requirement already satisfied: packaging>=20.0 in ./diffpriv/lib/python3.10/site-packages (from matplotlib!=3.6.1,>=3.4->seaborn) (23.2)\n",
      "Requirement already satisfied: pillow>=8 in ./diffpriv/lib/python3.10/site-packages (from matplotlib!=3.6.1,>=3.4->seaborn) (10.2.0)\n",
      "Requirement already satisfied: python-dateutil>=2.7 in ./diffpriv/lib/python3.10/site-packages (from matplotlib!=3.6.1,>=3.4->seaborn) (2.8.2)\n",
      "Requirement already satisfied: cycler>=0.10 in ./diffpriv/lib/python3.10/site-packages (from matplotlib!=3.6.1,>=3.4->seaborn) (0.12.1)\n",
      "Requirement already satisfied: contourpy>=1.0.1 in ./diffpriv/lib/python3.10/site-packages (from matplotlib!=3.6.1,>=3.4->seaborn) (1.2.0)\n",
      "Requirement already satisfied: kiwisolver>=1.3.1 in ./diffpriv/lib/python3.10/site-packages (from matplotlib!=3.6.1,>=3.4->seaborn) (1.4.5)\n",
      "Requirement already satisfied: pyparsing>=2.3.1 in ./diffpriv/lib/python3.10/site-packages (from matplotlib!=3.6.1,>=3.4->seaborn) (3.1.1)\n",
      "Requirement already satisfied: tzdata>=2022.7 in ./diffpriv/lib/python3.10/site-packages (from pandas>=1.2->seaborn) (2024.1)\n",
      "Requirement already satisfied: pytz>=2020.1 in ./diffpriv/lib/python3.10/site-packages (from pandas>=1.2->seaborn) (2024.1)\n",
      "Requirement already satisfied: six>=1.5 in ./diffpriv/lib/python3.10/site-packages (from python-dateutil>=2.7->matplotlib!=3.6.1,>=3.4->seaborn) (1.16.0)\n",
      "Installing collected packages: seaborn\n",
      "Successfully installed seaborn-0.13.2\n"
     ]
    }
   ],
   "source": [
    "!pip install pandas\n",
    "!pip install matplotlib\n",
    "!pip install seaborn\n"
   ]
  },
  {
   "cell_type": "code",
   "execution_count": 2,
   "metadata": {},
   "outputs": [
    {
     "name": "stderr",
     "output_type": "stream",
     "text": [
      "/tmp/ipykernel_960/555797462.py:1: DeprecationWarning: \n",
      "Pyarrow will become a required dependency of pandas in the next major release of pandas (pandas 3.0),\n",
      "(to allow more performant data types, such as the Arrow string type, and better interoperability with other libraries)\n",
      "but was not found to be installed on your system.\n",
      "If this would cause problems for you,\n",
      "please provide us feedback at https://github.com/pandas-dev/pandas/issues/54466\n",
      "        \n",
      "  import pandas as pd\n"
     ]
    }
   ],
   "source": [
    "import pandas as pd\n",
    "import numpy as np\n",
    "import matplotlib.pyplot as plt\n",
    "import seaborn as sns"
   ]
  },
  {
   "cell_type": "code",
   "execution_count": 3,
   "metadata": {},
   "outputs": [],
   "source": [
    "df = pd.read_csv(\"./data/workingData/numSamples.csv\")\n"
   ]
  },
  {
   "cell_type": "code",
   "execution_count": 7,
   "metadata": {},
   "outputs": [
    {
     "data": {
      "text/plain": [
       "<bound method DataFrame.info of           users  m_l_values\n",
       "0    GJ05BX3044           1\n",
       "1    GJ05BX3214           1\n",
       "2    GJ05BX3258           1\n",
       "3    GJ05BX3311           1\n",
       "4    GJ05CU0549           1\n",
       "..          ...         ...\n",
       "212  GJ05BZ2888         315\n",
       "213  GJ05BX1679         322\n",
       "214  GJ05BX2283         322\n",
       "215  GJ05BZ2876         342\n",
       "216  GJ05BZ4447         417\n",
       "\n",
       "[217 rows x 2 columns]>"
      ]
     },
     "execution_count": 7,
     "metadata": {},
     "output_type": "execute_result"
    }
   ],
   "source": [
    "df = df.rename(columns={'Row Labels': 'users', 'Count of Value': 'm_l_values'})\n",
    "df.info\n"
   ]
  },
  {
   "cell_type": "code",
   "execution_count": 8,
   "metadata": {},
   "outputs": [],
   "source": [
    "eps = np.arange(0.001, 2, 0.001)\n",
    "# print(eps)\n",
    "# eps = [0.5, 0.6, 0.7, 0.8, 0.9, 1.0, 1.2, 1.4, 1.6, 1.8, 2.0]\n",
    "# eps = [0.001, 0.002, 0.003, 0.004, 0.005, 0.1, 0.2, 0.5, 0.6, 0.7, 0.8, 0.9, 1.0, 1.1, 1.2, 1.3, 1.4, 1.5, 1.6, 1.7, 1.8, 1.9, 2.0, 3, 4, 5, 10, 20, 50, 100]"
   ]
  },
  {
   "cell_type": "code",
   "execution_count": 9,
   "metadata": {},
   "outputs": [
    {
     "name": "stdout",
     "output_type": "stream",
     "text": [
      "17166\n",
      "46.0 1 417\n",
      "[  1   2   3   4   5   6   7   8   9  10  11  12  13  14  15  16  17  18\n",
      "  19  20  21  22  23  24  25  26  27  28  29  30  31  32  33  34  35  36\n",
      "  37  38  39  40  41  42  43  44  45  46  47  48  49  50  51  52  53  54\n",
      "  55  56  57  58  59  60  61  62  63  64  65  66  67  68  69  70  71  72\n",
      "  73  74  75  76  77  78  79  80  81  82  83  84  85  86  87  88  89  90\n",
      "  91  92  93  94  95  96  97  98  99 100 101 102 103 104 105 106 107 108\n",
      " 109 110 111 112 113 114 115 116 117 118 119 120 121 122 123 124 125 126\n",
      " 127 128 129 130 131 132 133 134 135 136 137 138 139 140 141 142 143 144\n",
      " 145 146 147 148 149 150 151 152 153 154 155 156 157 158 159 160 161 162\n",
      " 163 164 165 166 167 168 169 170 171 172 173 174 175 176 177 178 179 180\n",
      " 181 182 183 184 185 186 187 188 189 190 191 192 193 194 195 196 197 198\n",
      " 199 200 201 202 203 204 205 206 207 208 209 210 211 212 213 214 215 216\n",
      " 217 218 219 220 221 222 223 224 225 226 227 228 229 230 231 232 233 234\n",
      " 235 236 237 238 239 240 241 242 243 244 245 246 247 248 249 250 251 252\n",
      " 253 254 255 256 257 258 259 260 261 262 263 264 265 266 267 268 269 270\n",
      " 271 272 273 274 275 276 277 278 279 280 281 282 283 284 285 286 287 288\n",
      " 289 290 291 292 293 294 295 296 297 298 299 300 301 302 303 304 305 306\n",
      " 307 308 309 310 311 312 313 314 315 316 317 318 319 320 321 322 323 324\n",
      " 325 326 327 328 329 330 331 332 333 334 335 336 337 338 339 340 341 342\n",
      " 343 344 345 346 347 348 349 350 351 352 353 354 355 356 357 358 359 360\n",
      " 361 362 363 364 365 366 367 368 369 370 371 372 373 374 375 376 377 378\n",
      " 379 380 381 382 383 384 385 386 387 388 389 390 391 392 393 394 395 396\n",
      " 397 398 399 400 401 402 403 404 405 406 407 408 409 410 411 412 413 414\n",
      " 415 416 417]\n",
      "[  1   1   1   1   1   2   2   3   3   3   3   4   4   4   5   5   6   6\n",
      "   6   6   7   8   8   9   9  10  10  10  10  11  11  11  12  12  13  13\n",
      "  14  14  14  14  15  15  16  17  18  20  20  20  20  21  21  21  22  22\n",
      "  22  22  23  23  24  24  25  25  25  26  26  27  27  28  28  28  29  29\n",
      "  29  29  30  30  30  32  33  34  34  35  36  36  37  38  38  38  38  39\n",
      "  39  39  40  40  40  40  42  42  42  42  42  43  43  43  43  43  44  45\n",
      "  46  46  49  49  51  51  52  52  53  54  57  59  59  62  63  65  65  65\n",
      "  65  65  66  67  67  67  68  68  70  73  73  74  74  74  77  78  78  78\n",
      "  79  80  82  82  85  86  87  87  88  90  91  94  97  98 101 109 110 114\n",
      " 114 117 122 125 126 126 127 128 129 132 133 133 133 135 138 141 147 147\n",
      " 148 154 158 160 162 169 170 173 177 183 185 187 189 192 196 197 208 210\n",
      " 220 225 235 244 245 247 248 255 257 264 265 275 284 289 315 322 322 342\n",
      " 417]\n"
     ]
    }
   ],
   "source": [
    "m_median = np.median(df['m_l_values'])\n",
    "m_min = np.min(df['m_l_values'])\n",
    "m_max = np.max(df['m_l_values'])\n",
    "m_values = np.arange(m_min, m_max+1, 1)\n",
    "m_l_values = df['m_l_values'].to_numpy()\n",
    "\n",
    "print(np.sum(m_l_values))\n",
    "print(m_median, m_min, m_max)\n",
    "print(m_values)\n",
    "print(m_l_values)"
   ]
  },
  {
   "cell_type": "code",
   "execution_count": 10,
   "metadata": {},
   "outputs": [
    {
     "name": "stdout",
     "output_type": "stream",
     "text": [
      "[1, 1, 1, 1, 22, 29, 38, 40, 43, 65, 66, 68, 74, 78, 82, 87, 91, 114, 126, 127, 128, 132, 133, 133, 135, 138, 147, 147, 148, 158, 160, 160, 169, 169, 170, 173, 177, 177, 183, 185, 185, 187, 187, 189, 189, 189, 192, 192, 196, 196, 196, 197, 197, 208, 208, 208, 210, 210, 210, 220, 220, 220, 225, 225, 225, 225, 235, 235, 235, 235, 244, 244, 244, 244, 244, 244, 245, 245, 245, 245, 245, 245, 245, 247, 247, 247, 247, 247, 247, 247, 248, 248, 248, 248, 248, 248, 248, 248, 248, 255, 255, 255, 255, 255, 255, 255, 255, 255, 255, 255, 257, 257, 257, 257, 257, 257, 257, 257, 257, 257, 257, 257, 264, 264, 264, 264, 264, 264, 264, 264, 264, 264, 264, 264, 264, 264, 264, 264, 265, 265, 265, 265, 265, 265, 265, 265, 265, 265, 265, 265, 265, 265, 265, 265, 265, 265, 265, 275, 275, 275, 275, 275, 275, 275, 275, 275, 275, 275, 275, 275, 275, 275, 275, 275, 275, 275, 275, 275, 275, 275, 275, 275, 284, 284, 284, 284, 284, 284, 284, 284, 284, 284, 284, 284, 284, 284, 284, 284, 284, 284, 284, 284, 284, 284, 284, 284, 284, 284, 284, 284, 284, 284, 284, 284, 284, 289, 289, 289, 289, 289, 289, 289, 289, 289, 289, 289, 289, 289, 289, 289, 289, 289, 289, 289, 289, 289, 289, 289, 289, 289, 289, 289, 289, 289, 289, 289, 289, 289, 289, 289, 289, 289, 289, 289, 289, 289, 289, 289, 289, 289, 315, 315, 315, 315, 315, 315, 315, 315, 315, 315, 315, 315, 315, 315, 315, 315, 315, 315, 315, 315, 315, 315, 315, 315, 315, 315, 315, 315, 315, 315, 315, 315, 315, 315, 315, 315, 315, 315, 315, 315, 315, 315, 315, 315, 315, 315, 315, 315, 315, 315, 315, 315, 315, 315, 315, 315, 315, 315, 315, 315, 315, 315, 315, 315, 315, 315, 315, 315, 315, 322, 322, 322, 322, 322, 322, 322, 322, 322, 322, 322, 322, 322, 322, 322, 322, 322, 322, 322, 322, 322, 322, 322, 322, 322, 322, 322, 322, 322, 322, 322, 322, 322, 322, 322, 322, 322, 322, 322, 322, 322, 322, 322, 322, 322, 322, 322, 322, 322, 322, 322, 322, 322, 322, 322, 322, 322, 322, 322, 322, 322, 322, 322, 322, 322, 322, 322, 322, 322, 322, 322, 322, 322, 322, 322, 322, 322, 322, 322, 322, 322, 322, 322, 322, 322, 322, 322, 322, 322, 322, 322, 322, 322, 322, 322, 322, 322, 322, 322, 322, 322, 322, 322, 322, 322, 322, 322, 322, 322, 322, 322, 322, 322, 322, 322, 322, 322, 322, 322, 322, 322, 322, 322, 322, 322, 322, 322, 322, 322, 322, 322, 322, 322, 322, 322, 322, 322, 322, 322, 322, 322, 322, 322, 322, 322, 322, 322, 322, 322, 322, 322, 322, 322, 322, 322, 322, 322, 322, 322, 322, 322, 322, 322, 322, 322, 322, 322, 322, 322, 322, 322, 322, 322, 322, 322, 322, 322, 322, 322, 322, 322, 322, 322, 322, 322, 322, 322, 322, 322, 322, 322, 322, 322, 322, 322, 322, 322, 322, 322, 322, 322, 322, 322, 322, 322, 322, 322, 322, 322, 322, 322, 322, 322, 322, 322, 322, 322, 322, 322, 322, 322, 322, 322, 322, 322, 322, 322, 322, 322, 322, 322, 322, 322, 322, 322, 322, 322, 322, 322, 322, 322, 322, 322, 322, 322, 322, 322, 322, 322, 322, 322, 322, 322, 322, 322, 322, 322, 322, 322, 322, 322, 322, 322, 322, 322, 322, 322, 322, 322, 322, 322, 322, 322, 322, 322, 322, 322, 322, 322, 322, 322, 322, 322, 322, 322, 322, 322, 322, 322, 322, 322, 322, 322, 322, 322, 322, 322, 322, 322, 322, 322, 322, 322, 322, 322, 322, 322, 322, 322, 322, 322, 322, 322, 322, 322, 322, 322, 322, 322, 322, 322, 322, 322, 322, 322, 322, 322, 322, 322, 322, 322, 322, 322, 322, 322, 322, 322, 322, 322, 322, 322, 322, 322, 322, 322, 322, 322, 322, 322, 322, 322, 322, 322, 322, 342, 342, 342, 342, 342, 342, 342, 342, 342, 342, 342, 342, 342, 342, 342, 342, 342, 342, 342, 342, 342, 342, 342, 342, 342, 342, 342, 342, 342, 342, 342, 342, 342, 342, 342, 342, 342, 342, 342, 342, 342, 342, 342, 342, 342, 342, 342, 342, 342, 342, 342, 342, 342, 342, 342, 342, 342, 342, 342, 342, 342, 342, 342, 342, 342, 342, 342, 342, 342, 342, 342, 342, 342, 342, 342, 342, 342, 342, 342, 342, 342, 342, 342, 342, 342, 342, 342, 342, 342, 342, 342, 342, 342, 342, 342, 342, 342, 342, 342, 342, 342, 342, 342, 342, 342, 342, 342, 342, 342, 342, 342, 342, 342, 342, 342, 342, 342, 342, 342, 342, 342, 342, 342, 342, 342, 342, 342, 342, 342, 342, 342, 342, 342, 342, 342, 342, 342, 342, 342, 342, 342, 342, 342, 342, 342, 342, 342, 342, 342, 342, 342, 342, 342, 342, 342, 342, 342, 342, 342, 342, 342, 342, 342, 342, 342, 342, 342, 342, 342, 342, 342, 342, 342, 342, 342, 342, 342, 342, 342, 342, 342, 342, 342, 342, 342, 342, 342, 342, 342, 342, 342, 342, 342, 342, 342, 342, 342, 342, 342, 342, 342, 342, 342, 342, 342, 342, 342, 342, 342, 342, 342, 342, 342, 342, 342, 342, 342, 342, 342, 342, 342, 342, 342, 342, 342, 342, 342, 342, 342, 342, 342, 342, 342, 342, 342, 342, 342, 342, 342, 342, 342, 342, 342, 342, 342, 342, 342, 342, 342, 342, 342, 342, 342, 342, 342, 342, 342, 342, 342, 342, 342, 342, 342, 342, 342, 342, 342, 342, 342, 342, 342, 342, 342, 342, 342, 342, 342, 342, 342, 342, 342, 342, 342, 342, 342, 342, 342, 342, 342, 342, 342, 342, 342, 342, 342, 342, 342, 342, 342, 342, 342, 342, 342, 342, 342, 342, 342, 342, 342, 342, 342, 342, 342, 342, 342, 342, 342, 342, 342, 342, 342, 342, 342, 342, 342, 342, 342, 342, 342, 342, 342, 342, 342, 342, 342, 342, 342, 342, 342, 342, 342, 342, 342, 342, 342, 342, 342, 342, 342, 342, 342, 342, 342, 342, 342, 342, 342, 342, 342, 342, 342, 342, 342, 342, 342, 342, 342, 342, 342, 342, 342, 342, 342, 342, 342, 342, 342, 342, 342, 342, 342, 342, 342, 342, 342, 342, 342, 342, 342, 342, 342, 342, 342, 342, 342, 342, 342, 342, 342, 342, 342, 342, 342, 342, 342, 342, 342, 342, 342, 342, 342, 342, 342, 342, 342, 342, 342, 342, 342, 342, 342, 342, 342, 342, 342, 342, 342, 342, 342, 342, 342, 342, 342, 342, 342, 342, 342, 342, 342, 342, 342, 342, 342, 342, 342, 342, 342, 342, 342, 342, 342, 342, 342, 342, 342, 342, 342, 342, 342, 342, 342, 342, 342, 342, 342, 342, 342, 342, 342, 342, 342, 342, 342, 342, 342, 342, 342, 342, 342, 342, 342, 342, 342, 342, 342, 342, 342, 342, 342, 342, 342, 342, 342, 342, 342, 342, 342, 342, 342, 342, 342, 342, 342, 342, 342, 342, 342, 342, 342, 342, 342, 342, 342, 342, 342, 342, 342, 342, 342, 342, 342, 342, 342, 342, 342, 342, 342, 342, 342, 342, 342, 342, 342, 342, 342, 342, 342, 342, 342, 342, 342, 342, 342, 342, 342, 342, 342, 342, 342, 342, 342, 342, 342, 342, 342, 342, 342, 342, 342, 342, 342, 342, 342, 342, 342, 342, 342, 342, 342, 342, 342, 342, 342, 342, 342, 342, 342, 342, 342, 342, 342, 342, 342, 342, 342, 342, 342, 342, 342, 342, 342, 342, 342, 342, 342, 342, 342, 342, 342, 342, 342, 342, 342, 342, 342, 342, 342, 342, 342, 342, 342, 342, 342, 342, 342, 342, 342, 342, 342, 342, 342, 342, 342, 342, 342, 342, 342, 342, 342, 342, 342, 342, 342, 342, 342, 342, 342, 342, 342, 342, 342, 342, 342, 342, 342, 342, 342, 342, 342, 342, 342, 342, 342, 342, 342, 342, 342, 342, 342, 342, 342, 342, 342, 342, 342, 342, 342, 342, 342, 342, 342, 342, 342, 342, 342, 342, 342, 342, 342, 342, 342, 342, 342, 342, 342, 342, 342, 342, 342, 342, 342, 342, 342, 342, 342, 342, 342, 342, 342, 342, 342, 342, 417, 417, 417, 417, 417, 417, 417, 417, 417, 417, 417, 417, 417, 417, 417, 417, 417, 417, 417, 417, 417, 417, 417, 417, 417, 417, 417, 417, 417, 417, 417, 417, 417, 417, 417, 417, 417, 417, 417, 417, 417, 417, 417, 417, 417, 417, 417, 417, 417, 417, 417, 417, 417, 417, 417, 417, 417, 417, 417, 417, 417, 417, 417, 417, 417, 417, 417, 417, 417, 417, 417, 417, 417, 417, 417, 417, 417, 417, 417, 417, 417, 417, 417, 417, 417, 417, 417, 417, 417, 417, 417, 417, 417, 417, 417, 417, 417, 417, 417, 417, 417, 417, 417, 417, 417, 417, 417, 417, 417, 417, 417, 417, 417, 417, 417, 417, 417, 417, 417, 417, 417, 417, 417, 417, 417, 417, 417, 417, 417, 417, 417, 417, 417, 417, 417, 417, 417, 417, 417, 417, 417, 417, 417, 417, 417, 417, 417, 417, 417, 417, 417, 417, 417, 417, 417, 417, 417, 417, 417, 417, 417, 417, 417, 417, 417, 417, 417, 417, 417, 417, 417, 417, 417, 417, 417, 417, 417, 417, 417, 417, 417, 417, 417, 417, 417, 417, 417, 417, 417, 417, 417, 417, 417, 417, 417, 417, 417, 417, 417, 417, 417, 417, 417, 417, 417, 417, 417, 417, 417, 417, 417, 417, 417, 417, 417, 417, 417, 417, 417, 417, 417, 417, 417, 417, 417, 417, 417, 417, 417, 417, 417, 417, 417, 417, 417, 417, 417, 417, 417, 417, 417, 417, 417, 417, 417, 417, 417, 417, 417, 417, 417, 417, 417, 417, 417, 417, 417, 417, 417, 417, 417, 417, 417, 417, 417, 417, 417, 417, 417, 417, 417, 417, 417, 417, 417, 417, 417, 417, 417, 417, 417, 417, 417, 417, 417, 417, 417, 417, 417, 417, 417, 417, 417, 417, 417, 417, 417, 417, 417, 417, 417, 417, 417, 417, 417, 417, 417, 417, 417, 417, 417, 417, 417, 417, 417, 417, 417, 417, 417, 417, 417, 417, 417, 417, 417, 417, 417, 417, 417, 417, 417, 417, 417, 417, 417, 417, 417, 417, 417, 417, 417, 417, 417, 417, 417, 417, 417, 417, 417, 417, 417, 417, 417, 417, 417, 417, 417, 417, 417, 417, 417, 417, 417, 417, 417, 417, 417, 417, 417, 417, 417, 417, 417, 417, 417, 417, 417, 417, 417, 417, 417, 417, 417, 417, 417, 417, 417, 417, 417, 417, 417, 417, 417, 417, 417, 417, 417, 417, 417, 417, 417, 417, 417, 417, 417, 417, 417, 417, 417, 417, 417, 417, 417, 417, 417, 417, 417, 417, 417, 417, 417, 417, 417, 417, 417, 417, 417, 417, 417, 417, 417, 417, 417, 417, 417, 417, 417, 417, 417, 417, 417, 417, 417, 417, 417, 417, 417, 417, 417, 417, 417, 417, 417, 417, 417, 417, 417, 417, 417, 417, 417, 417, 417, 417, 417, 417, 417, 417, 417, 417, 417, 417, 417, 417, 417, 417, 417, 417, 417, 417, 417, 417, 417, 417, 417, 417, 417, 417, 417, 417, 417, 417, 417, 417, 417, 417, 417, 417, 417, 417, 417, 417, 417, 417, 417, 417, 417, 417, 417, 417, 417, 417, 417, 417, 417, 417, 417, 417, 417, 417, 417, 417, 417, 417, 417, 417, 417, 417, 417, 417, 417, 417, 417, 417, 417, 417, 417, 417, 417, 417, 417, 417, 417, 417, 417, 417, 417, 417, 417, 417, 417, 417, 417, 417, 417, 417, 417, 417, 417, 417, 417, 417, 417, 417, 417, 417, 417, 417, 417, 417, 417, 417, 417, 417, 417, 417, 417, 417, 417, 417, 417, 417, 417, 417, 417, 417, 417, 417, 417, 417, 417, 417, 417, 417, 417, 417, 417, 417, 417, 417, 417, 417, 417, 417, 417, 417, 417, 417, 417, 417, 417, 417, 417, 417]\n"
     ]
    }
   ],
   "source": [
    "# eps = [0.001]\n",
    "error = []\n",
    "m_tracker = []\n",
    "# m_l_tracker = []\n",
    "epsilon_tracker = []\n",
    "i = 0\n",
    "j = 0\n",
    "current_error = []\n",
    "min_index_current_error = []\n",
    "\n",
    "for epsilon in eps:\n",
    "    current_error = []\n",
    "    for m in m_values:\n",
    "        m_array = np.full(len(m_l_values), m)\n",
    "        min_m_ml = np.minimum(m_array, m_l_values)\n",
    "        gamma_l = np.sum(min_m_ml)\n",
    "        current_error.append((1 - ((gamma_l)/np.sum(m_l_values))) + ((np.sqrt(2)*m)/(epsilon*(gamma_l))))\n",
    "        # min_calc = current_error\n",
    "        # if current_error < min_calc:\n",
    "        #     min_calc = current_error\n",
    "        #     min_index = m\n",
    "        # print(min_calc)\n",
    "        m_tracker.append(m)\n",
    "        epsilon_tracker.append(epsilon)\n",
    "    # print(min_index)\n",
    "    error.append(np.min(current_error))\n",
    "    # print(error)\n",
    "    min_index_current_error.append((np.argmin(current_error)) + m_min)\n",
    "print(min_index_current_error)\n",
    "plot_y_value = min_index_current_error\n",
    "\n",
    "# print(len(error))\n",
    "# print(np.shape(error))\n",
    "# print(error)\n",
    "# print(min_index_current_error)\n",
    "# min_value = np.min(error)\n",
    "# min_index = np.argmin(error)\n",
    "# print(\"Minimum error:\", min_value)\n",
    "# print(\"Minimum error index:\", min_index_current_error)\n",
    "# print(\"Corresponding m:\", m_tracker[min_index_current_error])\n",
    "# print(\"Corresponding epsilon:\", epsilon_tracker[min_index_current_error])"
   ]
  },
  {
   "cell_type": "code",
   "execution_count": 1,
   "metadata": {},
   "outputs": [],
   "source": [
    "import plotly.graph_objects as go\n",
    "from plotly.subplots import make_subplots\n",
    "import plotly.io as pio\n",
    "# pio.renderers.default = \"notebook\"\n",
    "import matplotlib.pyplot as plt"
   ]
  },
  {
   "cell_type": "code",
   "execution_count": 28,
   "metadata": {},
   "outputs": [],
   "source": [
    "def get_plots(\n",
    "    x_axis_data,\n",
    "    x_label,\n",
    "    y_axis_data,\n",
    "    y_label,\n",
    "    title,\n",
    "    legend,\n",
    "    y_axis_tick=0.5,\n",
    "    legend_prefix=\"\",\n",
    "):    \n",
    "    fig = go.Figure()\n",
    "    maks = [\n",
    "        \"hourglass\",\n",
    "        \"circle\",\n",
    "        \"square\",\n",
    "        \"star\",\n",
    "        \"square-open\",\n",
    "        \"x\",\n",
    "        \"bowtie\",\n",
    "        \"circle-open\",\n",
    "        \"x-open\",\n",
    "    ]\n",
    "    mp_maks = [\"o\", \"^\", \"s\", \"*\", \"x\", \"P\"]\n",
    "    line_styles = [\n",
    "        \"-\",\n",
    "        \"-.\",\n",
    "        \"--\",\n",
    "        \":\",\n",
    "        \"-\",\n",
    "        \"--\",\n",
    "        \":\",\n",
    "        \"-.\",\n",
    "        \"-\",\n",
    "        \"--\",\n",
    "        \":\",\n",
    "        \"-.\",\n",
    "        \"-\",\n",
    "        \"--\",\n",
    "        \":\",\n",
    "        \"-.\",\n",
    "    ]\n",
    "\n",
    "    fig.update_layout(\n",
    "        # scene = dict(\n",
    "        #     xaxis_title=x_label,\n",
    "        #     yaxis_title=y_label,\n",
    "        # ),\n",
    "        xaxis_title=x_label,\n",
    "        yaxis_title=y_label\n",
    "    )\n",
    "\n",
    "    # fsize = 100\n",
    "    # tsize = 14\n",
    "\n",
    "    # tdir = \"in\"\n",
    "\n",
    "    # major = 5.0\n",
    "    # minor = 3.0\n",
    "\n",
    "    # style = \"default\"\n",
    "\n",
    "    # plt.style.use(style)\n",
    "    # plt.rcParams[\"font.size\"] = fsize\n",
    "    # plt.rcParams[\"legend.fontsize\"] = 'x-large'\n",
    "    # plt.rcParams[\"xtick.direction\"] = tdir\n",
    "    # plt.rcParams[\"ytick.direction\"] = tdir\n",
    "    # plt.rcParams[\"xtick.major.size\"] = major\n",
    "    # plt.rcParams[\"xtick.minor.size\"] = minor\n",
    "    # plt.rcParams[\"ytick.major.size\"] = major\n",
    "    # plt.rcParams[\"ytick.minor.size\"] = minor\n",
    "    # plt.rcParams[\"text.usetex\"] = True\n",
    "    \n",
    "\n",
    "    # Create subplots\n",
    "#     ]\n",
    "\n",
    "    #creating an array of y values \n",
    "    y = []\n",
    "    # scaleFactorSynthetic = [0.1579, 0.1579, 0.1579, 0.1579, 0.1579]\n",
    "    # scaleFactorNS = [1.579, 1.579, 1.579, 1.579, 1.579]\n",
    "    # baselineMAENS = np.divide(scaleFactorNS, x_axis_data)\n",
    "    # baselineMAESynthetic = np.divide(scaleFactorSynthetic,x_axis_data)\n",
    "    # print(baselineMAE)\n",
    "    for i in y_axis_data:\n",
    "        y.append(i)\n",
    "    # print(y)\n",
    "    # print(x_axis_data)\n",
    "\n",
    "    # Add traces to the first subplot (RMSE)\n",
    "    fig.add_trace(go.Scatter(x=x_axis_data, \n",
    "                             y=y[0], \n",
    "                             mode='lines', \n",
    "                             name=r'$\\mathrm{B2}$',\n",
    "                             marker_color = 'green',\n",
    "                            #  showlegend=False,\n",
    "                             marker_symbol=maks[1]))\n",
    "\n",
    "    # Update subplot layout\n",
    "\n",
    "    fig.update_xaxes(title_font_size=18, title_text=r'$\\Huge{\\varepsilon}$', title_standoff = 18, automargin = False, type = 'log')\n",
    "    fig.update_yaxes(title_font_size=18, title_text=r'$\\Large{m^{\\varepsilon}}$', title_standoff = 18, automargin = False, tickvals = np.arange(1,418,32))\n",
    "\n",
    "    # Update the title of the entire figure\n",
    "    fig.update_layout(legend=dict(yanchor=\"top\", y=1, xanchor=\"right\", x=1, font_size = 16,valign = 'middle', entrywidth = 0),\n",
    "                      height=700, \n",
    "                      width=700,\n",
    "                      margin=dict(r=20, t=20))\n",
    "\n",
    "    # fig.show()\n",
    "    return fig"
   ]
  },
  {
   "cell_type": "code",
   "execution_count": 10,
   "metadata": {},
   "outputs": [
    {
     "data": {
      "text/plain": [
       "[[<matplotlib.axis.XTick at 0x7f1109315ff0>,\n",
       "  <matplotlib.axis.XTick at 0x7f1109315fc0>,\n",
       "  <matplotlib.axis.XTick at 0x7f1109314ee0>,\n",
       "  <matplotlib.axis.XTick at 0x7f110933e3e0>,\n",
       "  <matplotlib.axis.XTick at 0x7f110933eb30>]]"
      ]
     },
     "execution_count": 10,
     "metadata": {},
     "output_type": "execute_result"
    },
    {
     "data": {
      "image/png": "[encoded data removed]",
      "text/plain": [
       "<Figure size 640x480 with 1 Axes>"
      ]
     },
     "metadata": {},
     "output_type": "display_data"
    }
   ],
   "source": [
    "\n",
    "plot = sns.lineplot(x = eps, y=plot_y_value)\n",
    "plot.set(yticks=np.arange(1,418,32))\n",
    "plot.set(xscale='log')\n",
    "plot.set(xticks=[0.001, 0.001, 0.1, 1, 2])\n",
    "\n"
   ]
  }
 ],
 "metadata": {
  "kernelspec": {
   "display_name": "diffpriv",
   "language": "python",
   "name": "python3"
  },
  "language_info": {
   "codemirror_mode": {
    "name": "ipython",
    "version": 3
   },
   "file_extension": ".py",
   "mimetype": "text/x-python",
   "name": "python",
   "nbconvert_exporter": "python",
   "pygments_lexer": "ipython3",
   "version": "3.10.12"
  }
 },
 "nbformat": 4,
 "nbformat_minor": 2
}
